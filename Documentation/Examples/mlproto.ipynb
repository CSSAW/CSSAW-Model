{
 "metadata": {
  "language_info": {
   "codemirror_mode": {
    "name": "ipython",
    "version": 3
   },
   "file_extension": ".py",
   "mimetype": "text/x-python",
   "name": "python",
   "nbconvert_exporter": "python",
   "pygments_lexer": "ipython3",
   "version": "3.8.3-final"
  },
  "orig_nbformat": 2,
  "kernelspec": {
   "name": "python_defaultSpec_1595375417540",
   "display_name": "Python 3.8.3 64-bit ('env': venv)"
  }
 },
 "nbformat": 4,
 "nbformat_minor": 2,
 "cells": [
  {
   "cell_type": "markdown",
   "metadata": {},
   "source": [
    "# MLProto Demo\n",
    "\n",
    "This notebook demos a use case of the MLProto LSTM prototyping tool which we will use to demo different model structures. It is a notebook version of the stock.py example found in the examples module of the MLProto source code [here](https://github.com/CSLukeW/MLProto/blob/master/MLProto/Examples/stock.py). \n",
    "\n",
    "## Environment"
   ]
  },
  {
   "cell_type": "code",
   "execution_count": 2,
   "metadata": {},
   "outputs": [],
   "source": [
    "# stock data garnered from alpha_vantage api\n",
    "from alpha_vantage.timeseries import TimeSeries\n",
    "\n",
    "# MLProto imports\n",
    "from MLProto.MLProto import Proto as proto\n",
    "from MLProto.MLProto import Data as helper\n",
    "\n",
    "# other dependencies\n",
    "import argparse\n",
    "from matplotlib import pyplot\n",
    "import pandas\n",
    "import numpy\n",
    "from sklearn.preprocessing import MinMaxScaler"
   ]
  },
  {
   "cell_type": "markdown",
   "metadata": {},
   "source": [
    "## Data Collection\n",
    "\n",
    "The Alpha Vantage API offers a variety of options for pulling historical financial market data. We will be using daily adjusted stats going back 20 years or to the public debut of the company, whichever is closer to present day.\n",
    "\n",
    "Below is the function we will use to pull data from Alpha Vantage."
   ]
  },
  {
   "cell_type": "code",
   "execution_count": null,
   "metadata": {},
   "outputs": [],
   "source": [
    "def daily_adjusted(symbol, key, compact=True):\n",
    "    \"\"\" Returns data frame of queried data\n",
    "        args:\n",
    "            symbol -- symbol of desired stock\n",
    "            key -- user's API key\n",
    "        compact -- True -> last 100 results\n",
    "                   False -> all past results\n",
    "    \"\"\"\n",
    "\n",
    "    # create time series\n",
    "    ts = TimeSeries(key=key, output_format='pandas')\n",
    "\n",
    "    # take last 100 or complete historical as needed\n",
    "    if compact:\n",
    "        data, _ = ts.get_daily_adjusted(symbol=symbol, outputsize='compact')\n",
    "    else:\n",
    "        data, _ = ts.get_daily_adjusted(symbol=symbol, outputsize='full')\n",
    "\n",
    "    return data"
   ]
  }
 ]
}